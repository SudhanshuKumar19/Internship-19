{
 "cells": [
  {
   "cell_type": "markdown",
   "metadata": {},
   "source": [
    "# PYTHON - WORKSHEET 1"
   ]
  },
  {
   "cell_type": "markdown",
   "metadata": {},
   "source": [
    "Q11 to Q15 are programming questions. Answer them in Jupyter Notebook."
   ]
  },
  {
   "cell_type": "markdown",
   "metadata": {},
   "source": [
    "Q.11 Write a python program to find the factorial of a number."
   ]
  },
  {
   "cell_type": "code",
   "execution_count": 4,
   "metadata": {},
   "outputs": [
    {
     "name": "stdout",
     "output_type": "stream",
     "text": [
      "Enter a Positive Number:7\n",
      "The Factorial of the number 7 is 5040\n"
     ]
    }
   ],
   "source": [
    "x= int(input('Enter a Positive Number:'))\n",
    "fact=1\n",
    "if x<0:\n",
    "    print('Error. Please type a Positive number')\n",
    "    \n",
    "elif x==0:\n",
    "    print('The Factorial of number 0 is 1')\n",
    "    \n",
    "else:\n",
    "    for i in range(1,x+1):\n",
    "        fact=fact*i\n",
    "        i+=1\n",
    "    print('The Factorial of the number',x,'is',fact)"
   ]
  },
  {
   "cell_type": "markdown",
   "metadata": {},
   "source": [
    "Q.12 Write a python program to find whether a number is prime or composite."
   ]
  },
  {
   "cell_type": "code",
   "execution_count": 28,
   "metadata": {},
   "outputs": [
    {
     "name": "stdout",
     "output_type": "stream",
     "text": [
      "Enter any Positive Number:7\n",
      "7 is a Prime number\n"
     ]
    }
   ],
   "source": [
    "x= int(input('Enter any Positive Number:'))\n",
    "if x>1:\n",
    "    for i in range(2,x):\n",
    "        if (x%i)==0:\n",
    "            print(x,'is a Composite number')\n",
    "            break\n",
    "        else:\n",
    "            print(x,'is a Prime number')\n",
    "            break   \n",
    "            \n",
    "elif x==1:\n",
    "    print('1 is not a Prime number, since it has only one divisor')\n",
    "    \n",
    "else:\n",
    "    print(x,'is not a Prime number')\n",
    "\n",
    "    "
   ]
  },
  {
   "cell_type": "markdown",
   "metadata": {},
   "source": [
    "Q.13 Write a python program to check whether a given string is palindrome or not."
   ]
  },
  {
   "cell_type": "code",
   "execution_count": 32,
   "metadata": {},
   "outputs": [
    {
     "name": "stdout",
     "output_type": "stream",
     "text": [
      "Enter any String:SUDHANSHU\n",
      "The string SUDHANSHU is not a Palindrome string\n",
      "I have used String Slicing\n"
     ]
    }
   ],
   "source": [
    "x= input('Enter any String:')\n",
    "y= x[-1::-1]\n",
    "if (x==y):\n",
    "    print('The string',x,'is a Palindrome string')\n",
    "else:\n",
    "    print('The string',x,'is not a Palindrome string')\n",
    "\n",
    "print('I have used String Slicing')"
   ]
  },
  {
   "cell_type": "markdown",
   "metadata": {},
   "source": [
    "Q.14 Write a Python program to get the third side of right-angled triangle from two given sides."
   ]
  },
  {
   "cell_type": "code",
   "execution_count": 36,
   "metadata": {},
   "outputs": [
    {
     "name": "stdout",
     "output_type": "stream",
     "text": [
      "Enter the values of two sides of a right-angled triangle\n",
      "Enter the value of First side : 3\n",
      "Enter the value of the Second side : 4\n",
      "The length of the Hypotenuse is : 5.0\n"
     ]
    }
   ],
   "source": [
    "from math import sqrt\n",
    "print('Enter the values of two sides of a right-angled triangle')\n",
    "x= float(input('Enter the value of First side : '))\n",
    "y= float(input('Enter the value of the Second side : '))\n",
    "z= sqrt(x**2 + y**2)\n",
    "print('The length of the Hypotenuse is :',z)\n"
   ]
  },
  {
   "cell_type": "markdown",
   "metadata": {},
   "source": [
    "Q.15 Write a python program to print the frequency of each of the characters present in a given string."
   ]
  },
  {
   "cell_type": "code",
   "execution_count": 40,
   "metadata": {},
   "outputs": [
    {
     "name": "stdout",
     "output_type": "stream",
     "text": [
      "Enter any string : sudhanshu kumar\n",
      "{'s': 2, 'u': 3, 'd': 1, 'h': 2, 'a': 2, 'n': 1, ' ': 1, 'k': 1, 'm': 1, 'r': 1}\n",
      "These are all the frequencies of each of the characters present in a given string\n"
     ]
    }
   ],
   "source": [
    "x= input('Enter any string : ')\n",
    "y= dict()\n",
    "for i in x:\n",
    "    if i in y:\n",
    "        y[i] = y[i] + 1\n",
    "    else:\n",
    "        y[i] = 1\n",
    "print(y)\n",
    "print('These are all the frequencies of each of the characters present in a given string')"
   ]
  },
  {
   "cell_type": "code",
   "execution_count": null,
   "metadata": {},
   "outputs": [],
   "source": []
  }
 ],
 "metadata": {
  "kernelspec": {
   "display_name": "Python 3",
   "language": "python",
   "name": "python3"
  },
  "language_info": {
   "codemirror_mode": {
    "name": "ipython",
    "version": 3
   },
   "file_extension": ".py",
   "mimetype": "text/x-python",
   "name": "python",
   "nbconvert_exporter": "python",
   "pygments_lexer": "ipython3",
   "version": "3.8.5"
  }
 },
 "nbformat": 4,
 "nbformat_minor": 4
}
